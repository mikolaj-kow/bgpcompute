{
 "cells": [
  {
   "cell_type": "code",
   "execution_count": 2,
   "id": "fc0201a6-ecdb-4558-8d5e-1ee369d25c44",
   "metadata": {},
   "outputs": [],
   "source": [
    "import numpy as np\n",
    "import pandas as pd\n",
    "import datetime"
   ]
  },
  {
   "cell_type": "code",
   "execution_count": 3,
   "id": "e8a9c4db-0b02-488e-b7dc-ac8fa6766ec7",
   "metadata": {},
   "outputs": [],
   "source": [
    "# df = pd.read_hdf(\"googletest-raw.h5\", key=\"preprocessed\")\n",
    "df = pd.read_json(\"../data/04_feature/googletest-features2.json\")"
   ]
  },
  {
   "cell_type": "code",
   "execution_count": null,
   "id": "b5e9fd2f-5d81-428d-af1f-fbe69c459bf8",
   "metadata": {},
   "outputs": [],
   "source": []
  }
 ],
 "metadata": {
  "kernelspec": {
   "display_name": "bgpcompute-kedro",
   "language": "python",
   "name": "bgpcompute-kedro"
  },
  "language_info": {
   "codemirror_mode": {
    "name": "ipython",
    "version": 3
   },
   "file_extension": ".py",
   "mimetype": "text/x-python",
   "name": "python",
   "nbconvert_exporter": "python",
   "pygments_lexer": "ipython3",
   "version": "3.10.8"
  }
 },
 "nbformat": 4,
 "nbformat_minor": 5
}
